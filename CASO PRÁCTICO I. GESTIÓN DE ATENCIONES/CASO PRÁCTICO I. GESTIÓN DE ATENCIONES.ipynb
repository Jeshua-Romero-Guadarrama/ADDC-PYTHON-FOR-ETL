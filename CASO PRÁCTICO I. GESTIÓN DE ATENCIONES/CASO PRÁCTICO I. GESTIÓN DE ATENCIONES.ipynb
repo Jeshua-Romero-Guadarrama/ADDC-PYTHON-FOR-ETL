{
 "cells": [
  {
   "cell_type": "markdown",
   "id": "0f8adc1e-a456-490b-85ea-f6c2f61a3390",
   "metadata": {
    "tags": []
   },
   "source": [
    "# CASO PRÁCTICO: GESTIÓN DE Atenciones"
   ]
  },
  {
   "cell_type": "markdown",
   "id": "a4079f1e-9c1b-42a3-a328-191b3bb9e0df",
   "metadata": {
    "tags": []
   },
   "source": [
    "## 1. DETALLES GENERALES"
   ]
  },
  {
   "cell_type": "markdown",
   "id": "852e6823-f1b1-4794-bb30-f5df78ceecac",
   "metadata": {},
   "source": [
    "- Cree una carpeta llamada 'Gestion Atenciones', en esta carpeta usted creará un entorno virtual con Python 3.11.7. Toda la implementación del caso práctico lo realizará conectado a ese entorno virtual.\n",
    "- Descargue del classroom el Archivo Materiales.zip y descomprímalo dentro de la carpeta 'Gestion Atenciones'.\n",
    "- En el entorno virtual instale la última versión de polars y el complemento xlsx2csv.\n",
    "\n",
    "**Nota**: xIsx2csv, permite configurar los parámetros de conexión a un libro de Excel como si fuera un Archivo de texto plano."
   ]
  },
  {
   "cell_type": "markdown",
   "id": "6aeb1fdc-1d1a-464f-9a9e-5895907ad70a",
   "metadata": {
    "tags": []
   },
   "source": [
    "## 2. TRANSFORMACIONES A REALIZAR"
   ]
  },
  {
   "cell_type": "markdown",
   "id": "e14f7387-e76d-4c0b-8ed1-814b35fb704a",
   "metadata": {},
   "source": [
    "A continuación, encontrará el detalle de las transformaciones a realizar sobre cada una de las bases:"
   ]
  },
  {
   "cell_type": "markdown",
   "id": "f799ccb5-6af5-46f0-8b73-35ea0a9a6919",
   "metadata": {},
   "source": [
    "### BASE TICKETS"
   ]
  },
  {
   "cell_type": "code",
   "execution_count": 1,
   "id": "41d18e29-c12c-4d59-bb0f-26b1c71cb46c",
   "metadata": {
    "tags": []
   },
   "outputs": [],
   "source": [
    "import polars as pl"
   ]
  },
  {
   "cell_type": "markdown",
   "id": "60136fc6-8f26-4f0f-be25-7a4f8c4f6684",
   "metadata": {
    "tags": []
   },
   "source": [
    "- Importe la base 'Tickets Historico.txt', indicando que solo se importen las columnas: Numero Ticket, Ubicacion, Service Desk, Estado, Fecha Creacion, Fecha Termino y Fecha Cierre. Las columnas Fecha Creacion, Fecha Termino y Fecha Cierre deberán tener el tipo de dato fecha.\n",
    "- Renombre la columna 'Numero Ticket' por 'TicketID'.\n",
    "- Asigne el tipo de dato fecha a las columnas Fecha Creacion, Fecha Termino y Fecha Cierre."
   ]
  },
  {
   "cell_type": "code",
   "execution_count": 2,
   "id": "1bb6e669-3989-4799-9870-4dc6da376aa7",
   "metadata": {
    "tags": []
   },
   "outputs": [],
   "source": [
    "# Definir las columnas a importar:\n",
    "Columnas = ['Numero Ticket', 'Ubicacion', 'Service Desk', 'Estado', 'Fecha Creacion', 'Fecha Termino', 'Fecha Cierre']\n",
    "\n",
    "# Cargar los Archivos, especificando el delimitador correcto y seleccionando las columnas especificadas:\n",
    "Historico = pl.read_csv(r'Materiales/Tickets/Tickets Historico.txt', separator = ';', columns = Columnas) \\\n",
    "    .with_columns([\n",
    "        # Asegurar que las fechas tengan el tipo de dato 'date':\n",
    "        # Convertir 'Fecha Creacion', 'Fecha Termino' y 'Fecha Cierre' a fecha con el formato '%Y-%m-%d':\n",
    "        pl.col('Fecha Creacion').str.strptime(pl.Date, '%Y-%m-%d'),\n",
    "        pl.col('Fecha Termino').str.strptime(pl.Date, '%Y-%m-%d'),\n",
    "        pl.col('Fecha Cierre').str.strptime(pl.Date, '%Y-%m-%d')\n",
    "    ]) \\\n",
    "    .rename({\n",
    "        # Renombrar la columna 'Numero Ticket' por 'TicketID':\n",
    "        'Numero Ticket': 'TicketID'\n",
    "    }) "
   ]
  },
  {
   "cell_type": "markdown",
   "id": "6e30a79a-30fa-4f72-966d-94c093e92568",
   "metadata": {
    "tags": []
   },
   "source": [
    "- Importe la base 'Tickets Actual.txt', indicando que solo se importen las columnas: Numero Ticket, Ubicacion, Service Desk, Estado, Fecha Creacion, Fecha Termino y Fecha Cierre. Las columnas Fecha Creacion, Fecha Termino y Fecha Cierre deberán tener el tipo de dato fecha.\n",
    "- Renombre la columna 'Numero Ticket' por 'TicketID'.\n",
    "- Asigne el tipo de dato fecha a las columnas Fecha Creacion, Fecha Termino y Fecha Cierre.\n",
    "- Filtre la base actual de tal manera que solo se mantengan aquellos registros donde el TicketID inicia con WO."
   ]
  },
  {
   "cell_type": "code",
   "execution_count": 3,
   "id": "7c13ba62-ae3b-4087-8706-ff11833ff031",
   "metadata": {
    "tags": []
   },
   "outputs": [],
   "source": [
    "# Definir las columnas a importar:\n",
    "Columnas = ['Numero Ticket', 'Ubicacion', 'Service Desk', 'Estado', 'Fecha Creacion', 'Fecha Termino', 'Fecha Cierre']\n",
    "\n",
    "# Cargar los Archivos, especificando el delimitador correcto y seleccionando las columnas especificadas:\n",
    "Actual = pl.read_csv(r'Materiales/Tickets/Tickets Actual.csv', separator = '|', columns = Columnas) \\\n",
    "    .with_columns([\n",
    "        # Asegurar que las fechas tengan el tipo de dato 'date':\n",
    "        # Convertir 'Fecha Creacion' a fecha con el formato '%Y-%m-%d':\n",
    "        pl.col('Fecha Creacion').str.strptime(pl.Date, '%Y-%m-%d'),\n",
    "        # Convertir 'Fecha Termino' y 'Fecha Cierre' a fecha con el formato '%d/%m/%Y':\n",
    "        pl.col('Fecha Termino').str.strptime(pl.Date, '%d/%m/%Y'),\n",
    "        pl.col('Fecha Cierre').str.strptime(pl.Date, '%d/%m/%Y')\n",
    "    ]) \\\n",
    "    .rename({\n",
    "        # Renombrar la columna 'Numero Ticket' por 'TicketID':\n",
    "        'Numero Ticket': 'TicketID'\n",
    "    }) \\\n",
    "    .filter(\n",
    "        # Filtrar para mantener registros donde el TicketID inicia con 'WO':\n",
    "        pl.col('TicketID').str.starts_with('WO')\n",
    "    )"
   ]
  },
  {
   "cell_type": "markdown",
   "id": "9610ac1d-c1bd-44e4-b92b-e68a75182c6f",
   "metadata": {
    "tags": []
   },
   "source": [
    "- Anexe o concatene la base histórica y la base actual con el fin de crear un dataframe único llamado Tickets.\n",
    "- En la base Tickets no deberían existir duplicados, usted deberá eliminar los duplicados basados en la base.\n",
    "- Elimine los duplicados de la base Tickets en base a la siguiente regla: Si existe dos registros cuyo TicketID es igual, debe mantenerse aquel registro donde la [Fecha Creacion] sea la más actual."
   ]
  },
  {
   "cell_type": "code",
   "execution_count": 4,
   "id": "7d45744c-3b01-4302-83d4-892429cb955d",
   "metadata": {
    "tags": []
   },
   "outputs": [],
   "source": [
    "# Concatenar los dataframes histórico y actual\n",
    "Tickets = pl.concat([Historico, Actual]) \\\n",
    "    .sort(\n",
    "        # Se ordena por 'Fecha Creacion' de forma descendente para tener el más reciente primero.\n",
    "        ['TicketID', 'Fecha Creacion'], descending = [False, True]\n",
    "    ) \\\n",
    "    .unique(\n",
    "        # Eliminar duplicados manteniendo el primero de cada 'TicketID' y el registro con la [Fecha Creacion] más reciente.\n",
    "        subset = ['TicketID'], keep = 'first', maintain_order = True\n",
    "    )"
   ]
  },
  {
   "cell_type": "markdown",
   "id": "78c6b52f-b4ba-493c-8cc8-067b0a628c3a",
   "metadata": {},
   "source": [
    "- Dividir la columna [Ubicación], en las columnas [Agencia] y [AgencialD], usando como delimitador ' - '.\n",
    "- Asignar el tipo de dato entero a la columna AgencialD."
   ]
  },
  {
   "cell_type": "code",
   "execution_count": 5,
   "id": "09a74481-dacc-4bc9-beff-0130ffc97f5c",
   "metadata": {
    "tags": []
   },
   "outputs": [],
   "source": [
    "Tickets = Tickets.with_columns([\n",
    "        # Dividir la columna [Ubicación]:\n",
    "        pl.col('Ubicacion')\n",
    "        # Usando como delimitador ' - ':\n",
    "        .str.split_exact(' - ', 1)\n",
    "        # En las columnas [Agencia] y [AgencialD]:\n",
    "        .struct.rename_fields( ['Agencia', 'AgenciaID'])\n",
    "        .alias('Agencia')\n",
    "    ]) \\\n",
    "    .unnest(\n",
    "        'Agencia'\n",
    "    ) \\\n",
    "    .cast(\n",
    "        # Asignar el tipo de dato entero a la columna AgencialD:\n",
    "        {'AgenciaID': pl.Int64}\n",
    "    )"
   ]
  },
  {
   "cell_type": "markdown",
   "id": "c5c4af89-660c-42a5-b428-ab6903ef4abf",
   "metadata": {
    "tags": []
   },
   "source": [
    "- Crear la columna [Fecha Real Fin] basado en la siguiente regla:\n",
    "    - SI [Fecha Termino] es nulo ENTONCES [Fecha Cierre] SINO [Fecha Termino]"
   ]
  },
  {
   "cell_type": "code",
   "execution_count": 6,
   "id": "a92b6b10-056b-4947-980e-4350a3ebf4f4",
   "metadata": {},
   "outputs": [],
   "source": [
    "# Crear la columna [Fecha Real Fin]:\n",
    "Tickets = Tickets.with_columns([\n",
    "        # SI [Fecha Termino] es nulo:\n",
    "        pl.when(pl.col('Fecha Termino').is_null())\n",
    "        # ENTONCES [Fecha Cierre]:\n",
    "        .then(pl.col('Fecha Cierre'))\n",
    "        # SINO [Fecha Termino]:\n",
    "        .otherwise(pl.col('Fecha Termino'))\n",
    "        .alias('Fecha Real Fin')\n",
    "    ])"
   ]
  },
  {
   "cell_type": "markdown",
   "id": "55d39a31-3026-42fc-9e77-b604d8a978d8",
   "metadata": {},
   "source": [
    "- Crear la columna [Dias Cierre], la cual es la diferencia en días entre la [Fecha Real Fin] y [Fecha Creacion]."
   ]
  },
  {
   "cell_type": "code",
   "execution_count": 7,
   "id": "5eb01faa-4d96-4ea9-bdc0-872f00b5979e",
   "metadata": {
    "tags": []
   },
   "outputs": [],
   "source": [
    "# Crear la columna [Dias Cierre]:\n",
    "Tickets = Tickets.with_columns([\n",
    "        # Diferencia en días entre [Fecha Real Fin] y [Fecha Creacion]\n",
    "        (pl.col('Fecha Real Fin') - pl.col('Fecha Creacion')).dt.total_days().alias('Dias Cierre')\n",
    "    ])"
   ]
  },
  {
   "cell_type": "markdown",
   "id": "bb786b77-5c2f-48e6-8bc0-3607c074998f",
   "metadata": {},
   "source": [
    "- Crear la columna [Grupo Dias] basado en la siguiente regla:\n",
    "    - SI [Dias Cierre] es nulo ENTONCES Nulo\n",
    "    - SI [Dias Cierre] <= 3 ENTONCES '0 a 3 días'\n",
    "    - SI [Dias Cierre] <= 7 ENTONCES ' 4 a 7 días'\n",
    "    - SI [Dias Cierre] <= 15 ENTONCES '8 a 15 días'\n",
    "    - SI [Dias Cierre] > 15 ENTONCES '+15 días'"
   ]
  },
  {
   "cell_type": "code",
   "execution_count": 8,
   "id": "fd5a2962-99d1-47a4-b3e1-6aec19305a28",
   "metadata": {
    "tags": []
   },
   "outputs": [],
   "source": [
    "# Crear la columna [Grupo Dias]:\n",
    "Tickets = Tickets.with_columns([\n",
    "        # SI [Dias Cierre] es nulo ENTONCES Nulo:\n",
    "        pl.when(pl.col('Dias Cierre').is_null()).then(None)\n",
    "        # SI [Dias Cierre] <= 3 ENTONCES '0 a 3 días':\n",
    "        .when(pl.col('Dias Cierre') <= 3).then(pl.lit('0 a 3 días'))\n",
    "        # SI [Dias Cierre] <= 7 ENTONCES ' 4 a 7 días'\n",
    "        .when(pl.col('Dias Cierre') <= 7).then(pl.lit('4 a 7 días'))\n",
    "        # SI [Dias Cierre] <= 15 ENTONCES '8 a 15 días'\n",
    "        .when(pl.col('Dias Cierre') <= 15).then(pl.lit('8 a 15 días'))\n",
    "        # SI [Dias Cierre] > 15 ENTONCES '+15 días'\n",
    "        .otherwise(pl.lit('+15 días'))\n",
    "        .alias('Grupo Dias')\n",
    "    ])"
   ]
  },
  {
   "cell_type": "markdown",
   "id": "86cae0b2-cd86-42ed-b410-f4516429e843",
   "metadata": {
    "tags": []
   },
   "source": [
    "### BASE Atenciones"
   ]
  },
  {
   "cell_type": "code",
   "execution_count": 9,
   "id": "a894e1f5-0dcb-4e76-9d5d-1bd290640288",
   "metadata": {
    "tags": []
   },
   "outputs": [],
   "source": [
    "import os\n",
    "import xlsxwriter"
   ]
  },
  {
   "cell_type": "markdown",
   "id": "83f902da-294c-4241-a126-0cbed36789fa",
   "metadata": {},
   "source": [
    "- Importe los Excel de la carpeta Atenciones, recuerde que la importación se debe realizar de manear masiva. De cada Excel solo se deberá importar las columnas: Numero Ticket, Tipo de Ticket, Proveedor y Costo Atencion; la columna Costo Atencion debe ser de tipo texto.\n",
    "- La consulta anterior deberá almacenar el resultado en un dataframe llamado Atenciones."
   ]
  },
  {
   "cell_type": "code",
   "execution_count": 10,
   "id": "b199a986-4b08-4714-9397-564da078077e",
   "metadata": {
    "tags": []
   },
   "outputs": [],
   "source": [
    "# Definir la ruta de la carpeta que contiene los Archivos Excel:\n",
    "RutaCarpeta = r'Materiales/Atenciones'\n",
    "# Obtener la lista de Archivos Excel en la carpeta:\n",
    "ArchivosExcel = [Archivo for Archivo in os.listdir(RutaCarpeta) if Archivo.endswith('.xlsx')]\n",
    "# Inicializar un DataFrame vacío:\n",
    "Atenciones = None\n",
    "# Leer los Archivos Excel y concatenarlos en un solo DataFrame\n",
    "for Archivo in ArchivosExcel:\n",
    "    DF = pl.read_excel(os.path.join(RutaCarpeta, Archivo), \n",
    "                       read_options = {'columns': ['Numero Ticket', 'Tipo de Ticket', 'Proveedor', 'Costo Atencion'], \n",
    "                                       'dtypes': {'Costo Atencion': pl.Utf8}})\n",
    "    # Seleccionar las columnas necesarias\n",
    "    Atenciones = DF if Atenciones is None else Atenciones.vstack(DF)"
   ]
  },
  {
   "cell_type": "markdown",
   "id": "e54ecab6-a5a2-4d61-b047-07cdfe6aeddb",
   "metadata": {
    "tags": []
   },
   "source": [
    "- Cambiar el nombre de la columna 'Numero Ticket' por 'TicketID”."
   ]
  },
  {
   "cell_type": "code",
   "execution_count": 11,
   "id": "d2dbb5f4-3028-46f4-96f1-6d7a6b2b6e5c",
   "metadata": {
    "tags": []
   },
   "outputs": [],
   "source": [
    "Atenciones = Atenciones.rename({\n",
    "        # Cambiar el nombre de la columna 'Numero Ticket' por 'TicketID'\n",
    "        'Numero Ticket': 'TicketID'\n",
    "    }) "
   ]
  },
  {
   "cell_type": "markdown",
   "id": "76176451-d65c-41ba-827a-5626ebf630aa",
   "metadata": {},
   "source": [
    "- Colocar en mayúscula los valores de la columna [Costo Atencion], luego realice el reemplace de la coma por el punto; así también, reemplace los textos 'SIN COSTO' y 'COSTO CERO' por el valor ' 0 '.\n",
    "- Convertir la columna [Costo Atencion] al tipo de dato decimal, todos aquellos valores que no se puedan convertir deberían ser reemplazados por nulo."
   ]
  },
  {
   "cell_type": "code",
   "execution_count": 12,
   "id": "d0804d64-3801-4f37-b4d5-d418f9776a4d",
   "metadata": {
    "tags": []
   },
   "outputs": [],
   "source": [
    "Atenciones = Atenciones.with_columns([\n",
    "        # Convertir la columna 'Costo Atencion' a mayúsculas\n",
    "        pl.col('Costo Atencion').map_batches(lambda x: x.str.to_uppercase())\n",
    "        .alias('Costo Atencion')\n",
    "    ]) \\\n",
    "    .with_columns([\n",
    "        # Reemplazar la coma por el punto en la columna 'Costo Atencion':\n",
    "        pl.col('Costo Atencion').map_batches(lambda x: x.str.replace(',', '.'))\n",
    "        .alias('Costo Atencion')\n",
    "    ]) \\\n",
    "    .with_columns([\n",
    "        # Reemplazar los textos 'SIN COSTO' y 'COSTO CERO' por el valor '0':\n",
    "        pl.when(pl.col('Costo Atencion') == 'SIN COSTO').then(pl.lit('0'))\n",
    "          .when(pl.col('Costo Atencion') == 'COSTO CERO').then(pl.lit('0'))\n",
    "          .otherwise(pl.col('Costo Atencion'))\n",
    "          .alias('Costo Atencion')\n",
    "    ]) \\\n",
    "    .with_columns([\n",
    "        # Convertir la columna 'Costo Atencion' al tipo de dato decimal (Float64):\n",
    "        pl.col('Costo Atencion').cast(pl.Float64, strict = False)\n",
    "        .alias('Costo Atencion')\n",
    "    ])"
   ]
  },
  {
   "cell_type": "markdown",
   "id": "08e5e9dc-8cdf-46f9-a1cd-0b0126f55150",
   "metadata": {},
   "source": [
    "### COMBINAR Y EXPORTAR"
   ]
  },
  {
   "cell_type": "markdown",
   "id": "ac66cd45-97bf-49d7-a9e3-b2ea95d1321d",
   "metadata": {
    "tags": []
   },
   "source": [
    "- Realice una combinación de tipo Inner Join entre los dataframe Tickets y Atenciones, usando como columna del match [TicketID].\n",
    "- Del punto anterior usted deberá extraer solo las columnas: TicketID, AgencialD, Agencia, Service Desk, Estado, Fecha Creacion, Fecha Real Fin, Grupo Dias, Tipo de Ticket y Costo Atencion.\n",
    "- Cambie el nombre de las columnas [Fecha Real Fin] por [Fecha Cierre], [Tipo de Ticket] por [Tipo Ticket] y [Costo Atencion] por [Costo]."
   ]
  },
  {
   "cell_type": "code",
   "execution_count": 13,
   "id": "4eb44dc4-6ff3-4f17-a855-825f9f662daa",
   "metadata": {
    "tags": []
   },
   "outputs": [],
   "source": [
    "# Definir las columnas requeridas:\n",
    "Columnas = [\n",
    "    'TicketID',       'AgenciaID',      'Agencia',    'Service Desk',   'Estado', \n",
    "    'Fecha Creacion', 'Fecha Real Fin', 'Grupo Dias', 'Tipo de Ticket', 'Costo Atencion'\n",
    "]\n",
    "# Definir los nuevos nombres de columna:\n",
    "NuevosNombres = {\n",
    "    'Fecha Real Fin': 'Fecha Cierre',\n",
    "    'Tipo de Ticket': 'Tipo Ticket',\n",
    "    'Costo Atencion': 'Costo'\n",
    "}\n",
    "# Realizar la combinación de tipo Inner Join:\n",
    "Consolidado = Tickets.join(Atenciones, on = 'TicketID', how = 'inner') \\\n",
    "    .select(\n",
    "        # Seleccionar las columnas específicas:\n",
    "        Columnas\n",
    "    ) \\\n",
    "    .rename(\n",
    "        # Cambiar el nombre de las columnas:\n",
    "        NuevosNombres\n",
    "    ) \\\n",
    "    .with_columns([\n",
    "        # Formatear las fechas de la columna 'Fecha Creacion' al formato 'dd/mm/yyyy':\n",
    "        pl.col('Fecha Creacion').cast(pl.Date).dt.strftime('%d/%m/%Y').alias('Fecha Creacion')\n",
    "    ]) \\\n",
    "    .with_columns([\n",
    "        # Formatear las fechas de la columna 'Fecha Cierre' al formato 'dd/mm/yyyy':\n",
    "        pl.col('Fecha Cierre').cast(pl.Date).dt.strftime('%d/%m/%Y').alias('Fecha Cierre')\n",
    "    ]) \\\n",
    "    .with_columns([\n",
    "        # Formatear los números decimales para tener solo 2 dígitos en la parte decimal:\n",
    "        pl.col('Costo').round(2).alias('Costo')\n",
    "    ])"
   ]
  },
  {
   "cell_type": "markdown",
   "id": "cdd4fd26-a07f-4342-a5a8-ab3e3a7f1098",
   "metadata": {},
   "source": [
    "- Exporte la base consolidada en una hoja llamada 'Atenciones' perteneciente a un libro de excel llamado 'Consolidado.xIsx'.\n",
    "\n",
    "**Nota**: Recuerde que el formato de la fecha debe ser de tipo 'dd/mm/yyyy', además para los números decimales se debe tener solo 2 digitos en la parte decimal."
   ]
  },
  {
   "cell_type": "code",
   "execution_count": 14,
   "id": "fff979cb-7647-42e5-be86-ec5abd3ab3c0",
   "metadata": {},
   "outputs": [
    {
     "data": {
      "text/plain": [
       "<xlsxwriter.workbook.Workbook at 0x259cf34a810>"
      ]
     },
     "execution_count": 14,
     "metadata": {},
     "output_type": "execute_result"
    }
   ],
   "source": [
    "Consolidado.write_excel(\n",
    "        # Exportar la base consolidada a un archivo Excel:\n",
    "        workbook = 'Consolidado.xlsx', worksheet ='Atenciones', column_totals = True, autofit = True\n",
    "    )"
   ]
  },
  {
   "cell_type": "code",
   "execution_count": 15,
   "id": "57db02d9-967d-4ac1-aeba-4ba8b3a1e3f2",
   "metadata": {
    "tags": []
   },
   "outputs": [
    {
     "data": {
      "text/html": [
       "<div><style>\n",
       ".dataframe > thead > tr,\n",
       ".dataframe > tbody > tr {\n",
       "  text-align: right;\n",
       "  white-space: pre-wrap;\n",
       "}\n",
       "</style>\n",
       "<small>shape: (22_717, 10)</small><table border=\"1\" class=\"dataframe\"><thead><tr><th>TicketID</th><th>AgenciaID</th><th>Agencia</th><th>Service Desk</th><th>Estado</th><th>Fecha Creacion</th><th>Fecha Cierre</th><th>Grupo Dias</th><th>Tipo Ticket</th><th>Costo</th></tr><tr><td>str</td><td>i64</td><td>str</td><td>str</td><td>str</td><td>str</td><td>str</td><td>str</td><td>str</td><td>f64</td></tr></thead><tbody><tr><td>&quot;WO000000558468…</td><td>191076</td><td>&quot;LAS MALVINAS&quot;</td><td>&quot;Zona Centro&quot;</td><td>&quot;Cerrado&quot;</td><td>&quot;08/09/2023&quot;</td><td>&quot;17/09/2023&quot;</td><td>&quot;8 a 15 días&quot;</td><td>&quot;Variable&quot;</td><td>null</td></tr><tr><td>&quot;WO000000454494…</td><td>191053</td><td>&quot;URB SAN FELIPE…</td><td>&quot;Zona Centro&quot;</td><td>&quot;Rechazado&quot;</td><td>&quot;18/10/2022&quot;</td><td>&quot;18/10/2022&quot;</td><td>&quot;0 a 3 días&quot;</td><td>&quot;Rechazado&quot;</td><td>100.0</td></tr><tr><td>&quot;WO000000454524…</td><td>191035</td><td>&quot;PUENTE PIEDRA&quot;</td><td>&quot;Zona Centro&quot;</td><td>&quot;Rechazado&quot;</td><td>&quot;18/10/2022&quot;</td><td>&quot;18/10/2022&quot;</td><td>&quot;0 a 3 días&quot;</td><td>&quot;Rechazado&quot;</td><td>100.0</td></tr><tr><td>&quot;WO000000455912…</td><td>191087</td><td>&quot;EL PINO&quot;</td><td>&quot;Zona Centro&quot;</td><td>&quot;Rechazado&quot;</td><td>&quot;24/10/2022&quot;</td><td>&quot;25/10/2022&quot;</td><td>&quot;0 a 3 días&quot;</td><td>&quot;Rechazado&quot;</td><td>100.0</td></tr><tr><td>&quot;WO000000470747…</td><td>191044</td><td>&quot;LAS ALONDRAS&quot;</td><td>&quot;Zona Centro&quot;</td><td>&quot;Rechazado&quot;</td><td>&quot;08/11/2022&quot;</td><td>null</td><td>null</td><td>&quot;Rechazado&quot;</td><td>100.0</td></tr><tr><td>&quot;WO000000475997…</td><td>193022</td><td>&quot;ROSA TORO&quot;</td><td>&quot;Zona Centro&quot;</td><td>&quot;Rechazado&quot;</td><td>&quot;26/11/2022&quot;</td><td>null</td><td>null</td><td>&quot;Rechazado&quot;</td><td>100.0</td></tr><tr><td>&quot;WO000000479587…</td><td>470000</td><td>&quot;PISCO&quot;</td><td>&quot;Zona Centro&quot;</td><td>&quot;Rechazado&quot;</td><td>&quot;09/12/2022&quot;</td><td>null</td><td>null</td><td>&quot;Rechazado&quot;</td><td>100.0</td></tr><tr><td>&quot;WO000000482530…</td><td>191058</td><td>&quot;PLAZA LIMA NOR…</td><td>&quot;Zona Centro&quot;</td><td>&quot;Rechazado&quot;</td><td>&quot;19/12/2022&quot;</td><td>null</td><td>null</td><td>&quot;Rechazado&quot;</td><td>100.0</td></tr><tr><td>&quot;WO000000485368…</td><td>192026</td><td>&quot;PLAZA CIVICA V…</td><td>&quot;Zona Centro&quot;</td><td>&quot;Cerrado&quot;</td><td>&quot;02/01/2023&quot;</td><td>&quot;08/01/2023&quot;</td><td>&quot;4 a 7 días&quot;</td><td>&quot;Flat&quot;</td><td>100.0</td></tr><tr><td>&quot;WO000000492538…</td><td>193064</td><td>&quot;DEL AIRE&quot;</td><td>&quot;Zona Centro&quot;</td><td>&quot;Cerrado&quot;</td><td>&quot;24/01/2023&quot;</td><td>&quot;10/02/2023&quot;</td><td>&quot;+15 días&quot;</td><td>&quot;Flat&quot;</td><td>100.0</td></tr><tr><td>&quot;WO000000502490…</td><td>191076</td><td>&quot;LAS MALVINAS&quot;</td><td>&quot;Zona Centro&quot;</td><td>&quot;Cerrado&quot;</td><td>&quot;26/02/2023&quot;</td><td>&quot;13/03/2023&quot;</td><td>&quot;8 a 15 días&quot;</td><td>&quot;Flat&quot;</td><td>100.0</td></tr><tr><td>&quot;WO000000502497…</td><td>191030</td><td>&quot;TARAPACA&quot;</td><td>&quot;Zona Centro&quot;</td><td>&quot;Cerrado&quot;</td><td>&quot;26/02/2023&quot;</td><td>&quot;07/03/2023&quot;</td><td>&quot;8 a 15 días&quot;</td><td>&quot;Flat&quot;</td><td>100.0</td></tr><tr><td>&hellip;</td><td>&hellip;</td><td>&hellip;</td><td>&hellip;</td><td>&hellip;</td><td>&hellip;</td><td>&hellip;</td><td>&hellip;</td><td>&hellip;</td><td>&hellip;</td></tr><tr><td>&quot;WO000000573716…</td><td>191026</td><td>&quot;VENEZUELA&quot;</td><td>&quot;Zona Sur&quot;</td><td>&quot;En curso&quot;</td><td>&quot;29/10/2023&quot;</td><td>null</td><td>null</td><td>&quot;Flat&quot;</td><td>null</td></tr><tr><td>&quot;WO000000573750…</td><td>380000</td><td>&quot;ICA&quot;</td><td>&quot;Zona Sur&quot;</td><td>&quot;En curso&quot;</td><td>&quot;29/10/2023&quot;</td><td>null</td><td>null</td><td>&quot;Variable&quot;</td><td>null</td></tr><tr><td>&quot;WO000000573756…</td><td>191074</td><td>&quot;CHACLACAYO&quot;</td><td>&quot;Zona Sur&quot;</td><td>&quot;En curso&quot;</td><td>&quot;29/10/2023&quot;</td><td>null</td><td>null</td><td>&quot;Variable&quot;</td><td>null</td></tr><tr><td>&quot;WO000000573758…</td><td>193012</td><td>&quot;RAUL FERRERO&quot;</td><td>&quot;Zona Sur&quot;</td><td>&quot;Rechazado&quot;</td><td>&quot;29/10/2023&quot;</td><td>null</td><td>null</td><td>&quot;Rechazado&quot;</td><td>null</td></tr><tr><td>&quot;WO000000573832…</td><td>191173</td><td>&quot;PUNTO BCP SANT…</td><td>&quot;Zona Sur&quot;</td><td>&quot;En curso&quot;</td><td>&quot;29/10/2023&quot;</td><td>null</td><td>null</td><td>&quot;Variable&quot;</td><td>null</td></tr><tr><td>&quot;WO000000573833…</td><td>193054</td><td>&quot;LA FONTANA&quot;</td><td>&quot;Zona Sur&quot;</td><td>&quot;En curso&quot;</td><td>&quot;29/10/2023&quot;</td><td>null</td><td>null</td><td>&quot;Variable&quot;</td><td>null</td></tr><tr><td>&quot;WO000000573834…</td><td>193054</td><td>&quot;LA FONTANA&quot;</td><td>&quot;Zona Sur&quot;</td><td>&quot;Rechazado&quot;</td><td>&quot;29/10/2023&quot;</td><td>null</td><td>null</td><td>&quot;Rechazado&quot;</td><td>null</td></tr><tr><td>&quot;WO000000573834…</td><td>193054</td><td>&quot;LA FONTANA&quot;</td><td>&quot;Zona Sur&quot;</td><td>&quot;Rechazado&quot;</td><td>&quot;29/10/2023&quot;</td><td>null</td><td>null</td><td>&quot;Rechazado&quot;</td><td>null</td></tr><tr><td>&quot;WO000000573870…</td><td>255001</td><td>&quot;IMPERIAL&quot;</td><td>&quot;Zona Sur&quot;</td><td>&quot;En curso&quot;</td><td>&quot;29/10/2023&quot;</td><td>null</td><td>null</td><td>&quot;Variable&quot;</td><td>null</td></tr><tr><td>&quot;WO000000573870…</td><td>470000</td><td>&quot;PISCO&quot;</td><td>&quot;Zona Sur&quot;</td><td>&quot;En curso&quot;</td><td>&quot;29/10/2023&quot;</td><td>null</td><td>null</td><td>&quot;Variable&quot;</td><td>null</td></tr><tr><td>&quot;WO000000573871…</td><td>380004</td><td>&quot;LUREN&quot;</td><td>&quot;Zona Sur&quot;</td><td>&quot;En curso&quot;</td><td>&quot;29/10/2023&quot;</td><td>null</td><td>null</td><td>&quot;Variable&quot;</td><td>null</td></tr><tr><td>&quot;WO000000573872…</td><td>470000</td><td>&quot;PISCO&quot;</td><td>&quot;Zona Sur&quot;</td><td>&quot;En curso&quot;</td><td>&quot;29/10/2023&quot;</td><td>null</td><td>null</td><td>&quot;Flat&quot;</td><td>null</td></tr></tbody></table></div>"
      ],
      "text/plain": [
       "shape: (22_717, 10)\n",
       "┌─────────────────┬───────────┬──────────────────────┬──────────────┬───┬──────────────┬─────────────┬─────────────┬───────┐\n",
       "│ TicketID        ┆ AgenciaID ┆ Agencia              ┆ Service Desk ┆ … ┆ Fecha Cierre ┆ Grupo Dias  ┆ Tipo Ticket ┆ Costo │\n",
       "│ ---             ┆ ---       ┆ ---                  ┆ ---          ┆   ┆ ---          ┆ ---         ┆ ---         ┆ ---   │\n",
       "│ str             ┆ i64       ┆ str                  ┆ str          ┆   ┆ str          ┆ str         ┆ str         ┆ f64   │\n",
       "╞═════════════════╪═══════════╪══════════════════════╪══════════════╪═══╪══════════════╪═════════════╪═════════════╪═══════╡\n",
       "│ WO0000005584689 ┆ 191076    ┆ LAS MALVINAS         ┆ Zona Centro  ┆ … ┆ 17/09/2023   ┆ 8 a 15 días ┆ Variable    ┆ null  │\n",
       "│ WO0000004544943 ┆ 191053    ┆ URB SAN FELIPE COMAS ┆ Zona Centro  ┆ … ┆ 18/10/2022   ┆ 0 a 3 días  ┆ Rechazado   ┆ 100.0 │\n",
       "│ WO0000004545246 ┆ 191035    ┆ PUENTE PIEDRA        ┆ Zona Centro  ┆ … ┆ 18/10/2022   ┆ 0 a 3 días  ┆ Rechazado   ┆ 100.0 │\n",
       "│ WO0000004559125 ┆ 191087    ┆ EL PINO              ┆ Zona Centro  ┆ … ┆ 25/10/2022   ┆ 0 a 3 días  ┆ Rechazado   ┆ 100.0 │\n",
       "│ WO0000004707477 ┆ 191044    ┆ LAS ALONDRAS         ┆ Zona Centro  ┆ … ┆ null         ┆ null        ┆ Rechazado   ┆ 100.0 │\n",
       "│ …               ┆ …         ┆ …                    ┆ …            ┆ … ┆ …            ┆ …           ┆ …           ┆ …     │\n",
       "│ WO0000005738348 ┆ 193054    ┆ LA FONTANA           ┆ Zona Sur     ┆ … ┆ null         ┆ null        ┆ Rechazado   ┆ null  │\n",
       "│ WO0000005738704 ┆ 255001    ┆ IMPERIAL             ┆ Zona Sur     ┆ … ┆ null         ┆ null        ┆ Variable    ┆ null  │\n",
       "│ WO0000005738705 ┆ 470000    ┆ PISCO                ┆ Zona Sur     ┆ … ┆ null         ┆ null        ┆ Variable    ┆ null  │\n",
       "│ WO0000005738715 ┆ 380004    ┆ LUREN                ┆ Zona Sur     ┆ … ┆ null         ┆ null        ┆ Variable    ┆ null  │\n",
       "│ WO0000005738721 ┆ 470000    ┆ PISCO                ┆ Zona Sur     ┆ … ┆ null         ┆ null        ┆ Flat        ┆ null  │\n",
       "└─────────────────┴───────────┴──────────────────────┴──────────────┴───┴──────────────┴─────────────┴─────────────┴───────┘"
      ]
     },
     "execution_count": 15,
     "metadata": {},
     "output_type": "execute_result"
    }
   ],
   "source": [
    "Consolidado"
   ]
  }
 ],
 "metadata": {
  "kernelspec": {
   "display_name": "Python 3 (ipykernel)",
   "language": "python",
   "name": "python3"
  },
  "language_info": {
   "codemirror_mode": {
    "name": "ipython",
    "version": 3
   },
   "file_extension": ".py",
   "mimetype": "text/x-python",
   "name": "python",
   "nbconvert_exporter": "python",
   "pygments_lexer": "ipython3",
   "version": "3.11.5"
  }
 },
 "nbformat": 4,
 "nbformat_minor": 5
}
