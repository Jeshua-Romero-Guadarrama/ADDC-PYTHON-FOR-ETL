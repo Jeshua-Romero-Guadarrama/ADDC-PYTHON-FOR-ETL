{
 "cells": [
  {
   "cell_type": "markdown",
   "id": "0f8adc1e-a456-490b-85ea-f6c2f61a3390",
   "metadata": {
    "tags": []
   },
   "source": [
    "# CASO PRÁCTICO: GESTIÓN DE Atenciones"
   ]
  },
  {
   "cell_type": "markdown",
   "id": "a4079f1e-9c1b-42a3-a328-191b3bb9e0df",
   "metadata": {
    "tags": []
   },
   "source": [
    "## 1. DETALLES GENERALES"
   ]
  },
  {
   "cell_type": "markdown",
   "id": "852e6823-f1b1-4794-bb30-f5df78ceecac",
   "metadata": {},
   "source": [
    "- Cree una carpeta llamada \"Gestion Atenciones\", en esta carpeta usted creará un entorno virtual con Python 3.11.7. Toda la implementación del caso práctico lo realizará conectado a ese entorno virtual.\n",
    "- Descargue del classroom el Archivo Materiales.zip y descomprímalo dentro de la carpeta \"Gestion Atenciones\".\n",
    "- En el entorno virtual instale la última versión de polars y el complemento xlsx2csv.\n",
    "\n",
    "**Nota**: xIsx2csv, permite configurar los parámetros de conexión a un libro de Excel como si fuera un Archivo de texto plano."
   ]
  },
  {
   "cell_type": "markdown",
   "id": "6aeb1fdc-1d1a-464f-9a9e-5895907ad70a",
   "metadata": {
    "tags": []
   },
   "source": [
    "## 2. TRANSFORMACIONES A REALIZAR"
   ]
  },
  {
   "cell_type": "markdown",
   "id": "e14f7387-e76d-4c0b-8ed1-814b35fb704a",
   "metadata": {},
   "source": [
    "A continuación, encontrará el detalle de las transformaciones a realizar sobre cada una de las bases:"
   ]
  },
  {
   "cell_type": "markdown",
   "id": "f799ccb5-6af5-46f0-8b73-35ea0a9a6919",
   "metadata": {},
   "source": [
    "### BASE TICKETS"
   ]
  },
  {
   "cell_type": "code",
   "execution_count": 1,
   "id": "41d18e29-c12c-4d59-bb0f-26b1c71cb46c",
   "metadata": {
    "tags": []
   },
   "outputs": [],
   "source": [
    "import polars as pl"
   ]
  },
  {
   "cell_type": "markdown",
   "id": "60136fc6-8f26-4f0f-be25-7a4f8c4f6684",
   "metadata": {
    "tags": []
   },
   "source": [
    "- Importe la base \"Tickets Historico.txt\", indicando que solo se importen las columnas: Numero Ticket, Ubicacion, Service Desk, Estado, Fecha Creacion, Fecha Termino y Fecha Cierre. Las columnas Fecha Creacion, Fecha Termino y Fecha Cierre deberán tener el tipo de dato fecha.\n",
    "- Renombre la columna \"Numero Ticket\" por \"TicketID\".\n",
    "- Asigne el tipo de dato fecha a las columnas Fecha Creacion, Fecha Termino y Fecha Cierre."
   ]
  },
  {
   "cell_type": "code",
   "execution_count": 2,
   "id": "1bb6e669-3989-4799-9870-4dc6da376aa7",
   "metadata": {
    "tags": []
   },
   "outputs": [],
   "source": [
    "# Definir las columnas a importar:\n",
    "Columnas = ['Numero Ticket', 'Ubicacion', 'Service Desk', 'Estado', 'Fecha Creacion', 'Fecha Termino', 'Fecha Cierre']\n",
    "\n",
    "# Cargar los Archivos, especificando el delimitador correcto y seleccionando las columnas especificadas:\n",
    "Historico = pl.read_csv(r'Materiales/Tickets/Tickets Historico.txt', separator = ';', columns = Columnas) \\\n",
    "    .with_columns([\n",
    "        # Asegurar que las fechas tengan el tipo de dato \"date\":\n",
    "        # Convertir 'Fecha Creacion', 'Fecha Termino' y 'Fecha Cierre' a fecha con el formato '%Y-%m-%d':\n",
    "        pl.col('Fecha Creacion').str.strptime(pl.Date, '%Y-%m-%d'),\n",
    "        pl.col('Fecha Termino').str.strptime(pl.Date, '%Y-%m-%d'),\n",
    "        pl.col('Fecha Cierre').str.strptime(pl.Date, '%Y-%m-%d')\n",
    "    ]) \\\n",
    "    .rename({\n",
    "        # Renombrar la columna \"Numero Ticket\" por \"TicketID\":\n",
    "        'Numero Ticket': 'TicketID'\n",
    "    }) "
   ]
  },
  {
   "cell_type": "markdown",
   "id": "6e30a79a-30fa-4f72-966d-94c093e92568",
   "metadata": {
    "tags": []
   },
   "source": [
    "- Importe la base \"Tickets Actual.txt\", indicando que solo se importen las columnas: Numero Ticket, Ubicacion, Service Desk, Estado, Fecha Creacion, Fecha Termino y Fecha Cierre. Las columnas Fecha Creacion, Fecha Termino y Fecha Cierre deberán tener el tipo de dato fecha.\n",
    "- Renombre la columna \"Numero Ticket\" por \"TicketID\".\n",
    "- Asigne el tipo de dato fecha a las columnas Fecha Creacion, Fecha Termino y Fecha Cierre.\n",
    "- Filtre la base actual de tal manera que solo se mantengan aquellos registros donde el TicketID inicia con WO."
   ]
  },
  {
   "cell_type": "code",
   "execution_count": 3,
   "id": "7c13ba62-ae3b-4087-8706-ff11833ff031",
   "metadata": {
    "tags": []
   },
   "outputs": [],
   "source": [
    "# Definir las columnas a importar:\n",
    "Columnas = ['Numero Ticket', 'Ubicacion', 'Service Desk', 'Estado', 'Fecha Creacion', 'Fecha Termino', 'Fecha Cierre']\n",
    "\n",
    "# Cargar los Archivos, especificando el delimitador correcto y seleccionando las columnas especificadas:\n",
    "Actual = pl.read_csv(r'Materiales/Tickets/Tickets Actual.csv', separator = '|', columns = Columnas) \\\n",
    "    .with_columns([\n",
    "        # Asegurar que las fechas tengan el tipo de dato \"date\":\n",
    "        # Convertir 'Fecha Creacion' a fecha con el formato '%Y-%m-%d':\n",
    "        pl.col('Fecha Creacion').str.strptime(pl.Date, \"%Y-%m-%d\"),\n",
    "        # Convertir 'Fecha Termino' y 'Fecha Cierre' a fecha con el formato '%d/%m/%Y':\n",
    "        pl.col('Fecha Termino').str.strptime(pl.Date, \"%d/%m/%Y\"),\n",
    "        pl.col('Fecha Cierre').str.strptime(pl.Date, \"%d/%m/%Y\")\n",
    "    ]) \\\n",
    "    .rename({\n",
    "        # Renombrar la columna \"Numero Ticket\" por \"TicketID\":\n",
    "        'Numero Ticket': 'TicketID'\n",
    "    }) \\\n",
    "    .filter(\n",
    "        # Filtrar para mantener registros donde el TicketID inicia con \"WO\":\n",
    "        pl.col('TicketID').str.starts_with(\"WO\")\n",
    "    )"
   ]
  },
  {
   "cell_type": "markdown",
   "id": "9610ac1d-c1bd-44e4-b92b-e68a75182c6f",
   "metadata": {
    "tags": []
   },
   "source": [
    "- Anexe o concatene la base histórica y la base actual con el fin de crear un dataframe único llamado Tickets.\n",
    "- En la base Tickets no deberían existir duplicados, usted deberá eliminar los duplicados basados en la base.\n",
    "- Elimine los duplicados de la base Tickets en base a la siguiente regla: Si existe dos registros cuyo TicketID es igual, debe mantenerse aquel registro donde la [Fecha Creacion] sea la más actual."
   ]
  },
  {
   "cell_type": "code",
   "execution_count": 4,
   "id": "7d45744c-3b01-4302-83d4-892429cb955d",
   "metadata": {
    "tags": []
   },
   "outputs": [],
   "source": [
    "# Concatenar los dataframes histórico y actual\n",
    "Tickets = pl.concat([Historico, Actual]) \\\n",
    "    .sort(\n",
    "        # Se ordena por 'Fecha Creacion' de forma descendente para tener el más reciente primero.\n",
    "        ['TicketID', 'Fecha Creacion'], descending = [False, True]\n",
    "    ) \\\n",
    "    .unique(\n",
    "        # Eliminar duplicados manteniendo el primero de cada 'TicketID' y el registro con la [Fecha Creacion] más reciente.\n",
    "        subset = ['TicketID'], keep = 'first', maintain_order = True\n",
    "    )"
   ]
  },
  {
   "cell_type": "markdown",
   "id": "78c6b52f-b4ba-493c-8cc8-067b0a628c3a",
   "metadata": {},
   "source": [
    "- Dividir la columna [Ubicación], en las columnas [Agencia] y [AgencialD], usando como delimitador \" - \".\n",
    "- Asignar el tipo de dato entero a la columna AgencialD."
   ]
  },
  {
   "cell_type": "code",
   "execution_count": 5,
   "id": "09a74481-dacc-4bc9-beff-0130ffc97f5c",
   "metadata": {
    "tags": []
   },
   "outputs": [],
   "source": [
    "Tickets = Tickets.with_columns([\n",
    "        # Dividir la columna [Ubicación]:\n",
    "        pl.col('Ubicacion')\n",
    "        # Usando como delimitador \" - \":\n",
    "        .str.split_exact(' - ', 1)\n",
    "        # En las columnas [Agencia] y [AgencialD]:\n",
    "        .struct.rename_fields( ['Agencia', 'AgenciaID'])\n",
    "        .alias('Agencia')\n",
    "    ]) \\\n",
    "    .unnest(\n",
    "        'Agencia'\n",
    "    ) \\\n",
    "    .cast(\n",
    "        # Asignar el tipo de dato entero a la columna AgencialD:\n",
    "        {'AgenciaID': pl.Int64}\n",
    "    )"
   ]
  },
  {
   "cell_type": "markdown",
   "id": "c5c4af89-660c-42a5-b428-ab6903ef4abf",
   "metadata": {
    "tags": []
   },
   "source": [
    "- Crear la columna [Fecha Real Fin] basado en la siguiente regla:\n",
    "    - SI [Fecha Termino] es nulo ENTONCES [Fecha Cierre] SINO [Fecha Termino]"
   ]
  },
  {
   "cell_type": "code",
   "execution_count": 6,
   "id": "a92b6b10-056b-4947-980e-4350a3ebf4f4",
   "metadata": {},
   "outputs": [],
   "source": [
    "# Crear la columna [Fecha Real Fin]:\n",
    "Tickets = Tickets.with_columns([\n",
    "        # SI [Fecha Termino] es nulo:\n",
    "        pl.when(pl.col(\"Fecha Termino\").is_null())\n",
    "        # ENTONCES [Fecha Cierre]:\n",
    "        .then(pl.col(\"Fecha Cierre\"))\n",
    "        # SINO [Fecha Termino]:\n",
    "        .otherwise(pl.col(\"Fecha Termino\"))\n",
    "        .alias(\"Fecha Real Fin\")\n",
    "    ])"
   ]
  },
  {
   "cell_type": "markdown",
   "id": "55d39a31-3026-42fc-9e77-b604d8a978d8",
   "metadata": {},
   "source": [
    "- Crear la columna [Dias Cierre], la cual es la diferencia en días entre la [Fecha Real Fin] y [Fecha Creacion]."
   ]
  },
  {
   "cell_type": "code",
   "execution_count": 7,
   "id": "5eb01faa-4d96-4ea9-bdc0-872f00b5979e",
   "metadata": {
    "tags": []
   },
   "outputs": [],
   "source": [
    "# Crear la columna [Dias Cierre]:\n",
    "Tickets = Tickets.with_columns([\n",
    "        # Diferencia en días entre [Fecha Real Fin] y [Fecha Creacion]\n",
    "        (pl.col(\"Fecha Real Fin\") - pl.col(\"Fecha Creacion\")).dt.total_days().alias(\"Dias Cierre\")\n",
    "    ])"
   ]
  },
  {
   "cell_type": "markdown",
   "id": "bb786b77-5c2f-48e6-8bc0-3607c074998f",
   "metadata": {},
   "source": [
    "- Crear la columna [Grupo Dias] basado en la siguiente regla:\n",
    "    - SI [Dias Cierre] es nulo ENTONCES Nulo\n",
    "    - SI [Dias Cierre] <= 3 ENTONCES \"0 a 3 días\"\n",
    "    - SI [Dias Cierre] <= 7 ENTONCES \" 4 a 7 días\"\n",
    "    - SI [Dias Cierre] <= 15 ENTONCES \"8 a 15 días\"\n",
    "    - SI [Dias Cierre] > 15 ENTONCES \"+15 días\""
   ]
  },
  {
   "cell_type": "code",
   "execution_count": 8,
   "id": "fd5a2962-99d1-47a4-b3e1-6aec19305a28",
   "metadata": {
    "tags": []
   },
   "outputs": [],
   "source": [
    "# Crear la columna [Grupo Dias]:\n",
    "Tickets = Tickets.with_columns([\n",
    "        # SI [Dias Cierre] es nulo ENTONCES Nulo:\n",
    "        pl.when(pl.col(\"Dias Cierre\").is_null()).then(None)\n",
    "        # SI [Dias Cierre] <= 3 ENTONCES \"0 a 3 días\":\n",
    "        .when(pl.col(\"Dias Cierre\") <= 3).then(pl.lit(\"0 a 3 días\"))\n",
    "        # SI [Dias Cierre] <= 7 ENTONCES \" 4 a 7 días\"\n",
    "        .when(pl.col(\"Dias Cierre\") <= 7).then(pl.lit(\"4 a 7 días\"))\n",
    "        # SI [Dias Cierre] <= 15 ENTONCES \"8 a 15 días\"\n",
    "        .when(pl.col(\"Dias Cierre\") <= 15).then(pl.lit(\"8 a 15 días\"))\n",
    "        # SI [Dias Cierre] > 15 ENTONCES \"+15 días\"\n",
    "        .otherwise(pl.lit(\"+15 días\"))\n",
    "        .alias(\"Grupo Dias\")\n",
    "    ])"
   ]
  },
  {
   "cell_type": "markdown",
   "id": "86cae0b2-cd86-42ed-b410-f4516429e843",
   "metadata": {
    "tags": []
   },
   "source": [
    "### BASE Atenciones"
   ]
  },
  {
   "cell_type": "code",
   "execution_count": 9,
   "id": "a894e1f5-0dcb-4e76-9d5d-1bd290640288",
   "metadata": {
    "tags": []
   },
   "outputs": [],
   "source": [
    "import os"
   ]
  },
  {
   "cell_type": "markdown",
   "id": "83f902da-294c-4241-a126-0cbed36789fa",
   "metadata": {},
   "source": [
    "- Importe los Excel de la carpeta Atenciones, recuerde que la importación se debe realizar de manear masiva. De cada Excel solo se deberá importar las columnas: Numero Ticket, Tipo de Ticket, Proveedor y Costo Atencion; la columna Costo Atencion debe ser de tipo texto.\n",
    "- La consulta anterior deberá almacenar el resultado en un dataframe llamado Atenciones."
   ]
  },
  {
   "cell_type": "code",
   "execution_count": 10,
   "id": "b199a986-4b08-4714-9397-564da078077e",
   "metadata": {
    "tags": []
   },
   "outputs": [],
   "source": [
    "# Definir la ruta de la carpeta que contiene los Archivos Excel:\n",
    "RutaCarpeta = r'Materiales/Atenciones'\n",
    "# Obtener la lista de Archivos Excel en la carpeta:\n",
    "ArchivosExcel = [Archivo for Archivo in os.listdir(RutaCarpeta) if Archivo.endswith('.xlsx')]\n",
    "# Inicializar un DataFrame vacío:\n",
    "Atenciones = None\n",
    "# Leer los Archivos Excel y concatenarlos en un solo DataFrame\n",
    "for Archivo in ArchivosExcel:\n",
    "    DF = pl.read_excel(os.path.join(RutaCarpeta, Archivo), \n",
    "                       read_options = {\"columns\": ['Numero Ticket', 'Tipo de Ticket', 'Proveedor', 'Costo Atencion'], \n",
    "                                       \"dtypes\": {'Costo Atencion': pl.Utf8}})\n",
    "    # Seleccionar las columnas necesarias\n",
    "    Atenciones = DF if Atenciones is None else Atenciones.vstack(DF)"
   ]
  },
  {
   "cell_type": "markdown",
   "id": "e54ecab6-a5a2-4d61-b047-07cdfe6aeddb",
   "metadata": {
    "tags": []
   },
   "source": [
    "- Cambiar el nombre de la columna \"Numero Ticket\" por \"TicketID”."
   ]
  },
  {
   "cell_type": "code",
   "execution_count": 11,
   "id": "d2dbb5f4-3028-46f4-96f1-6d7a6b2b6e5c",
   "metadata": {
    "tags": []
   },
   "outputs": [],
   "source": [
    "Atenciones = Atenciones.rename({\n",
    "        # Cambiar el nombre de la columna \"Numero Ticket\" por \"TicketID\"\n",
    "        \"Numero Ticket\": \"TicketID\"\n",
    "    }) "
   ]
  },
  {
   "cell_type": "markdown",
   "id": "76176451-d65c-41ba-827a-5626ebf630aa",
   "metadata": {},
   "source": [
    "- Colocar en mayúscula los valores de la columna [Costo Atencion], luego realice el reemplace de la coma por el punto; así también, reemplace los textos \"SIN COSTO\" y \"COSTO CERO\" por el valor \" 0 \"."
   ]
  },
  {
   "cell_type": "code",
   "execution_count": 12,
   "id": "d0804d64-3801-4f37-b4d5-d418f9776a4d",
   "metadata": {
    "tags": []
   },
   "outputs": [],
   "source": [
    "Atenciones = Atenciones.with_columns([\n",
    "        # Convertir la columna 'Costo Atencion' a mayúsculas\n",
    "        pl.col('Costo Atencion').map_batches(lambda x: x.str.to_uppercase())\n",
    "        .alias('Costo Atencion')\n",
    "    ]) \\\n",
    "    .with_columns([\n",
    "        # Reemplazar la coma por el punto en la columna 'Costo Atencion':\n",
    "        pl.col('Costo Atencion').map_batches(lambda x: x.str.replace(',', '.'))\n",
    "        .alias('Costo Atencion')\n",
    "    ]) \\\n",
    "    .with_columns([\n",
    "        # Reemplazar los textos \"SIN COSTO\" y \"COSTO CERO\" por el valor \"0\":\n",
    "        pl.when(pl.col(\"Costo Atencion\") == 'SIN COSTO').then(pl.lit(\"0\"))\n",
    "          .when(pl.col(\"Costo Atencion\") == 'COSTO CERO').then(pl.lit(\"0\"))\n",
    "          .otherwise(pl.col('Costo Atencion'))\n",
    "          .alias('Costo Atencion')\n",
    "    ]) "
   ]
  },
  {
   "cell_type": "markdown",
   "id": "c2f600ab-d57d-41e4-86c7-4fec24fe23f3",
   "metadata": {
    "tags": []
   },
   "source": [
    "- Convertir la columna [Costo Atencion] al tipo de dato decimal, todos aquellos valores que no se puedan convertir deberían ser reemplazados por nulo."
   ]
  },
  {
   "cell_type": "code",
   "execution_count": 13,
   "id": "a755b12f-eee0-422b-abd2-8421d79dc65e",
   "metadata": {
    "tags": []
   },
   "outputs": [
    {
     "ename": "ComputeError",
     "evalue": "AttributeError: module 'polars' has no attribute 'try_call'",
     "output_type": "error",
     "traceback": [
      "\u001b[1;31m---------------------------------------------------------------------------\u001b[0m",
      "\u001b[1;31mComputeError\u001b[0m                              Traceback (most recent call last)",
      "Cell \u001b[1;32mIn[13], line 2\u001b[0m\n\u001b[0;32m      1\u001b[0m \u001b[38;5;66;03m# Convertir la columna 'Costo Atencion' al tipo de dato decimal (Float64):\u001b[39;00m\n\u001b[1;32m----> 2\u001b[0m Atenciones \u001b[38;5;241m=\u001b[39m Atenciones\u001b[38;5;241m.\u001b[39mwith_columns([\n\u001b[0;32m      3\u001b[0m         \u001b[38;5;66;03m# Todos aquellos valores que no se puedan convertir deberían ser reemplazados por nulo.\u001b[39;00m\n\u001b[0;32m      4\u001b[0m         pl\u001b[38;5;241m.\u001b[39mcol(\u001b[38;5;124m'\u001b[39m\u001b[38;5;124mCosto Atencion\u001b[39m\u001b[38;5;124m'\u001b[39m)\u001b[38;5;241m.\u001b[39mmap_batches(\u001b[38;5;28;01mlambda\u001b[39;00m x: pl\u001b[38;5;241m.\u001b[39mwhen(pl\u001b[38;5;241m.\u001b[39mtry_call(pl\u001b[38;5;241m.\u001b[39mfloat64, x))\u001b[38;5;241m.\u001b[39mthen(x)\u001b[38;5;241m.\u001b[39motherwise(pl\u001b[38;5;241m.\u001b[39mnull()))\n\u001b[0;32m      5\u001b[0m         \u001b[38;5;241m.\u001b[39malias(\u001b[38;5;124m'\u001b[39m\u001b[38;5;124mCosto Atencion\u001b[39m\u001b[38;5;124m'\u001b[39m)\n\u001b[0;32m      6\u001b[0m     ])\n",
      "File \u001b[1;32m~\\Anaconda\\Lib\\site-packages\\polars\\dataframe\\frame.py:8315\u001b[0m, in \u001b[0;36mDataFrame.with_columns\u001b[1;34m(self, *exprs, **named_exprs)\u001b[0m\n\u001b[0;32m   8169\u001b[0m \u001b[38;5;28;01mdef\u001b[39;00m \u001b[38;5;21mwith_columns\u001b[39m(\n\u001b[0;32m   8170\u001b[0m     \u001b[38;5;28mself\u001b[39m,\n\u001b[0;32m   8171\u001b[0m     \u001b[38;5;241m*\u001b[39mexprs: IntoExpr \u001b[38;5;241m|\u001b[39m Iterable[IntoExpr],\n\u001b[0;32m   8172\u001b[0m     \u001b[38;5;241m*\u001b[39m\u001b[38;5;241m*\u001b[39mnamed_exprs: IntoExpr,\n\u001b[0;32m   8173\u001b[0m ) \u001b[38;5;241m-\u001b[39m\u001b[38;5;241m>\u001b[39m DataFrame:\n\u001b[0;32m   8174\u001b[0m \u001b[38;5;250m    \u001b[39m\u001b[38;5;124;03m\"\"\"\u001b[39;00m\n\u001b[0;32m   8175\u001b[0m \u001b[38;5;124;03m    Add columns to this DataFrame.\u001b[39;00m\n\u001b[0;32m   8176\u001b[0m \n\u001b[1;32m   (...)\u001b[0m\n\u001b[0;32m   8313\u001b[0m \u001b[38;5;124;03m    └─────┴──────┴─────────────┘\u001b[39;00m\n\u001b[0;32m   8314\u001b[0m \u001b[38;5;124;03m    \"\"\"\u001b[39;00m\n\u001b[1;32m-> 8315\u001b[0m     \u001b[38;5;28;01mreturn\u001b[39;00m \u001b[38;5;28mself\u001b[39m\u001b[38;5;241m.\u001b[39mlazy()\u001b[38;5;241m.\u001b[39mwith_columns(\u001b[38;5;241m*\u001b[39mexprs, \u001b[38;5;241m*\u001b[39m\u001b[38;5;241m*\u001b[39mnamed_exprs)\u001b[38;5;241m.\u001b[39mcollect(_eager\u001b[38;5;241m=\u001b[39m\u001b[38;5;28;01mTrue\u001b[39;00m)\n",
      "File \u001b[1;32m~\\Anaconda\\Lib\\site-packages\\polars\\lazyframe\\frame.py:1940\u001b[0m, in \u001b[0;36mLazyFrame.collect\u001b[1;34m(self, type_coercion, predicate_pushdown, projection_pushdown, simplify_expression, slice_pushdown, comm_subplan_elim, comm_subexpr_elim, no_optimization, streaming, background, _eager)\u001b[0m\n\u001b[0;32m   1937\u001b[0m \u001b[38;5;28;01mif\u001b[39;00m background:\n\u001b[0;32m   1938\u001b[0m     \u001b[38;5;28;01mreturn\u001b[39;00m InProcessQuery(ldf\u001b[38;5;241m.\u001b[39mcollect_concurrently())\n\u001b[1;32m-> 1940\u001b[0m \u001b[38;5;28;01mreturn\u001b[39;00m wrap_df(ldf\u001b[38;5;241m.\u001b[39mcollect())\n",
      "\u001b[1;31mComputeError\u001b[0m: AttributeError: module 'polars' has no attribute 'try_call'"
     ]
    }
   ],
   "source": [
    "# Convertir la columna 'Costo Atencion' al tipo de dato decimal (Float64):\n",
    "Atenciones = Atenciones.with_columns([\n",
    "        # Todos aquellos valores que no se puedan convertir deberían ser reemplazados por nulo.\n",
    "        pl.col('Costo Atencion').map_batches(lambda x: pl.when(pl.try_call(pl.float64, x)).then(x).otherwise(pl.null()))\n",
    "        .alias('Costo Atencion')\n",
    "    ])"
   ]
  },
  {
   "cell_type": "code",
   "execution_count": null,
   "id": "eb34d0ac-1fc3-4907-9833-a9c345dcd201",
   "metadata": {
    "tags": []
   },
   "outputs": [],
   "source": [
    "\n",
    "\n",
    "\n",
    " \\\n",
    "\n",
    "\n",
    "\n",
    "Atenciones = Atenciones.with_column(\n",
    "    pl.col('Costo Atencion').cast(pl.Decimal).nullable(), \n",
    "    rename='Costo Atencion'\n",
    ")\n",
    "\n",
    "# Ver el resultado\n",
    "print(Atenciones)\n"
   ]
  },
  {
   "cell_type": "code",
   "execution_count": null,
   "id": "56685726-5e43-417f-9892-99f7a9a313de",
   "metadata": {},
   "outputs": [],
   "source": []
  },
  {
   "cell_type": "code",
   "execution_count": null,
   "id": "6ee5f762-bd8b-42d0-a652-ce87b6c031d0",
   "metadata": {},
   "outputs": [],
   "source": []
  }
 ],
 "metadata": {
  "kernelspec": {
   "display_name": "Python 3 (ipykernel)",
   "language": "python",
   "name": "python3"
  },
  "language_info": {
   "codemirror_mode": {
    "name": "ipython",
    "version": 3
   },
   "file_extension": ".py",
   "mimetype": "text/x-python",
   "name": "python",
   "nbconvert_exporter": "python",
   "pygments_lexer": "ipython3",
   "version": "3.11.5"
  }
 },
 "nbformat": 4,
 "nbformat_minor": 5
}
