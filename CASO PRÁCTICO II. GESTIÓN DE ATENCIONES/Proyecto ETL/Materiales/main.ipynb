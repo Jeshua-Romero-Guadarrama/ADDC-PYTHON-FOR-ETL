{
 "cells": [
  {
   "cell_type": "markdown",
   "metadata": {},
   "source": [
    "import subprocess\n",
    "\n",
    "# Lista de paquetes a instalar\n",
    "paquetes = [\n",
    "    'asttokens==2.4.1',\n",
    "    'colorama==0.4.6',\n",
    "    'comm==0.2.1',\n",
    "    'debugpy==1.8.1',\n",
    "    'decorator==5.1.1',\n",
    "    'executing==2.0.1',\n",
    "    'ipykernel==6.29.2',\n",
    "    'ipython==8.21.0',\n",
    "    'jedi==0.19.1',\n",
    "    'jupyter_client==8.6.0',\n",
    "    'jupyter_core==5.7.1',\n",
    "    'matplotlib-inline==0.1.6',\n",
    "    'nest-asyncio==1.6.0',\n",
    "    'packaging==23.2',\n",
    "    'parso==0.8.3',\n",
    "    'platformdirs==4.2.0',\n",
    "    'polars==0.20.10',\n",
    "    'prompt-toolkit==3.0.43',\n",
    "    'psutil==5.9.8',\n",
    "    'psycopg2==2.9.9',\n",
    "    'pure-eval==0.2.2',\n",
    "    'Pygments==2.17.2',\n",
    "    'python-dateutil==2.8.2',\n",
    "    'python-dotenv==1.0.1',\n",
    "    'pywin32==306',\n",
    "    'pyzmq==25.1.2',\n",
    "    'six==1.16.0',\n",
    "    'stack-data==0.6.3',\n",
    "    'tornado==6.4',\n",
    "    'traitlets==5.14.1',\n",
    "    'wcwidth==0.2.13',\n",
    "    'xlsx2csv==0.8.2'\n",
    "]\n",
    "\n",
    "# Comando de instalación para cada paquete\n",
    "for paquete in paquetes:\n",
    "    subprocess.run(['pip', 'install', paquete])"
   ]
  },
  {
   "cell_type": "code",
   "execution_count": 1,
   "metadata": {
    "tags": []
   },
   "outputs": [],
   "source": [
    "from Scripts.Transform import CreateDimension, SplitByDelimiter, RenameColumns, CreateFactTable\n",
    "from Scripts.Extract import ImportDataFromExcel, ImportDataFromPostgreSQL\n",
    "from Scripts.Load import InsertDimToPostgreSQL, InsertFactToPostgreSQL"
   ]
  },
  {
   "cell_type": "code",
   "execution_count": 2,
   "metadata": {
    "tags": []
   },
   "outputs": [],
   "source": [
    "# Variables que usaremos\n",
    "filepath        = './Atenciones.xlsx'\n",
    "nombre_columnas = {\n",
    "                    'Numero Ticket': 'TicketID',\n",
    "                    'Estado Ticket': 'Estado',\n",
    "                    'Tipo Atencion': 'TipoAtencion',\n",
    "                    'Fecha Creacion': 'FechaCreacion',\n",
    "                    'Fecha Cierre': 'FechaCierre',\n",
    "                    'Tipo': 'TipoItem',\n",
    "                    'Tipo Proveedor': 'TipoProveedor'\n",
    "                }"
   ]
  },
  {
   "cell_type": "code",
   "execution_count": 3,
   "metadata": {
    "tags": []
   },
   "outputs": [],
   "source": [
    "# 1. Extract\n",
    "Atenciones = ImportDataFromExcel(filepath = filepath, sheet = 'Hoja1')"
   ]
  },
  {
   "cell_type": "code",
   "execution_count": 4,
   "metadata": {
    "tags": []
   },
   "outputs": [],
   "source": [
    "# 2. Renombrando\n",
    "Atenciones = RenameColumns(Atenciones, nombre_columnas)\n",
    "Atenciones = SplitByDelimiter(Atenciones, 'Ubicacion')\n",
    "Atenciones = RenameColumns(Atenciones, {'Columna1': 'AgenciaID', 'Columna2': 'Agencia'})\n",
    "Atenciones = Atenciones.sort('FechaCreacion', descending = False) # Ordenar por FechaCreacion"
   ]
  },
  {
   "cell_type": "code",
   "execution_count": 6,
   "metadata": {},
   "outputs": [],
   "source": [
    "# 3. Creando los DataFrames\n",
    "Agencias     = CreateDimension(Atenciones, 'AgenciaID', 'Agencia', 'Direccion', 'Distrito', 'Provincia', 'Departamento')\n",
    "Estado       = CreateDimension(Atenciones, 'Estado')\n",
    "TipoAtencion = CreateDimension(Atenciones, 'TipoAtencion')\n",
    "Proveedor    = CreateDimension(Atenciones, 'Proveedor', 'TipoProveedor')\n",
    "Item         = CreateDimension(Atenciones, 'ItemID',    'Item',    'TipoItem',  'Categoria')"
   ]
  },
  {
   "cell_type": "code",
   "execution_count": 7,
   "metadata": {},
   "outputs": [
    {
     "name": "stdout",
     "output_type": "stream",
     "text": [
      "Ocurrió un error al conectar a la base de datos: 'utf-8' codec can't decode byte 0xf3 in position 85: invalid continuation byte\n",
      "No se pudo establecer la conexión con la base de datos.\n",
      "Ocurrió un error al conectar a la base de datos: 'utf-8' codec can't decode byte 0xf3 in position 85: invalid continuation byte\n",
      "No se pudo establecer la conexión con la base de datos.\n",
      "Ocurrió un error al conectar a la base de datos: 'utf-8' codec can't decode byte 0xf3 in position 85: invalid continuation byte\n",
      "No se pudo establecer la conexión con la base de datos.\n",
      "Ocurrió un error al conectar a la base de datos: 'utf-8' codec can't decode byte 0xf3 in position 85: invalid continuation byte\n",
      "No se pudo establecer la conexión con la base de datos.\n",
      "Ocurrió un error al conectar a la base de datos: 'utf-8' codec can't decode byte 0xf3 in position 85: invalid continuation byte\n",
      "No se pudo establecer la conexión con la base de datos.\n"
     ]
    }
   ],
   "source": [
    "# 4. Probando Conexion\n",
    "InsertDimToPostgreSQL(Agencias,     'dimAgencia')\n",
    "InsertDimToPostgreSQL(Item,         'dimItem')\n",
    "InsertDimToPostgreSQL(Proveedor,    'dimProveedor')\n",
    "InsertDimToPostgreSQL(TipoAtencion, 'dimTipoAtencion')\n",
    "InsertDimToPostgreSQL(Estado,       'dimEstado')"
   ]
  },
  {
   "cell_type": "code",
   "execution_count": 8,
   "metadata": {},
   "outputs": [
    {
     "name": "stdout",
     "output_type": "stream",
     "text": [
      "Ocurrió un error al conectar a la base de datos: 'utf-8' codec can't decode byte 0xf3 in position 85: invalid continuation byte\n",
      "No se pudo establecer conexión con la base de datos.\n",
      "Ocurrió un error al conectar a la base de datos: 'utf-8' codec can't decode byte 0xf3 in position 85: invalid continuation byte\n",
      "No se pudo establecer conexión con la base de datos.\n",
      "Ocurrió un error al conectar a la base de datos: 'utf-8' codec can't decode byte 0xf3 in position 85: invalid continuation byte\n",
      "No se pudo establecer conexión con la base de datos.\n"
     ]
    }
   ],
   "source": [
    "# Extraer dimensiones con clave subrogada\n",
    "# 5. Llamando al código\n",
    "Proveedor    = ImportDataFromPostgreSQL('dimProveedor',    ['ProveedorID',    'Proveedor'])\n",
    "TipoAtencion = ImportDataFromPostgreSQL('dimTipoAtencion', ['TipoAtencionID', 'TipoAtencion'])\n",
    "Estado       = ImportDataFromPostgreSQL('dimEstado',       ['EstadoID',       'Estado'])"
   ]
  },
  {
   "cell_type": "code",
   "execution_count": 9,
   "metadata": {},
   "outputs": [
    {
     "name": "stdout",
     "output_type": "stream",
     "text": [
      "Error al crear la tabla de hechos: expected `other` join table to be a DataFrame, got 'NoneType'\n"
     ]
    }
   ],
   "source": [
    "# 6. Haciendo el Join\n",
    "Atenciones = CreateFactTable(Atenciones, Proveedor, Estado, TipoAtencion)"
   ]
  },
  {
   "cell_type": "code",
   "execution_count": 10,
   "metadata": {
    "tags": []
   },
   "outputs": [
    {
     "name": "stdout",
     "output_type": "stream",
     "text": [
      "Ocurrió un error al conectar a la base de datos: 'utf-8' codec can't decode byte 0xf3 in position 85: invalid continuation byte\n",
      "No se pudo establecer la conexión con la base de datos.\n"
     ]
    }
   ],
   "source": [
    "# 7. Escribiendo datos\n",
    "InsertFactToPostgreSQL(Atenciones, 'FactAtenciones')"
   ]
  }
 ],
 "metadata": {
  "kernelspec": {
   "display_name": "Python 3 (ipykernel)",
   "language": "python",
   "name": "python3"
  },
  "language_info": {
   "codemirror_mode": {
    "name": "ipython",
    "version": 3
   },
   "file_extension": ".py",
   "mimetype": "text/x-python",
   "name": "python",
   "nbconvert_exporter": "python",
   "pygments_lexer": "ipython3",
   "version": "3.11.5"
  }
 },
 "nbformat": 4,
 "nbformat_minor": 4
}
