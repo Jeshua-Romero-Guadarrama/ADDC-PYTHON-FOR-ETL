{
 "cells": [
  {
   "cell_type": "markdown",
   "metadata": {},
   "source": [
    "import subprocess\n",
    "\n",
    "# Lista de paquetes a instalar\n",
    "paquetes = [\n",
    "    'asttokens==2.4.1',\n",
    "    'colorama==0.4.6',\n",
    "    'comm==0.2.1',\n",
    "    'debugpy==1.8.1',\n",
    "    'decorator==5.1.1',\n",
    "    'executing==2.0.1',\n",
    "    'ipykernel==6.29.2',\n",
    "    'ipython==8.21.0',\n",
    "    'jedi==0.19.1',\n",
    "    'jupyter_client==8.6.0',\n",
    "    'jupyter_core==5.7.1',\n",
    "    'matplotlib-inline==0.1.6',\n",
    "    'nest-asyncio==1.6.0',\n",
    "    'packaging==23.2',\n",
    "    'parso==0.8.3',\n",
    "    'platformdirs==4.2.0',\n",
    "    'polars==0.20.10',\n",
    "    'prompt-toolkit==3.0.43',\n",
    "    'psutil==5.9.8',\n",
    "    'psycopg2==2.9.9',\n",
    "    'pure-eval==0.2.2',\n",
    "    'Pygments==2.17.2',\n",
    "    'python-dateutil==2.8.2',\n",
    "    'python-dotenv==1.0.1',\n",
    "    'pywin32==306',\n",
    "    'pyzmq==25.1.2',\n",
    "    'six==1.16.0',\n",
    "    'stack-data==0.6.3',\n",
    "    'tornado==6.4',\n",
    "    'traitlets==5.14.1',\n",
    "    'wcwidth==0.2.13',\n",
    "    'xlsx2csv==0.8.2'\n",
    "]\n",
    "\n",
    "# Comando de instalación para cada paquete\n",
    "for paquete in paquetes:\n",
    "    subprocess.run(['pip', 'install', paquete])"
   ]
  },
  {
   "cell_type": "code",
   "execution_count": 1,
   "metadata": {
    "tags": []
   },
   "outputs": [],
   "source": [
    "from Scripts.Transform import CreateDimension, SplitByDelimiter, RenameColumns, CreateFactTable\n",
    "from Scripts.Extract import ImportDataFromExcel, ImportDataFromPostgreSQL\n",
    "from Scripts.Load import CrearTablas, InsertDimToPostgreSQL, InsertFactToPostgreSQL"
   ]
  },
  {
   "cell_type": "code",
   "execution_count": 2,
   "metadata": {
    "tags": []
   },
   "outputs": [],
   "source": [
    "# Variables que usaremos\n",
    "filepath        = './Atenciones.xlsx'\n",
    "nombre_columnas = {\n",
    "                    'Numero Ticket': 'TicketID',\n",
    "                    'Estado Ticket': 'Estado',\n",
    "                    'Tipo Atencion': 'TipoAtencion',\n",
    "                    'Fecha Creacion': 'FechaCreacion',\n",
    "                    'Fecha Cierre': 'FechaCierre',\n",
    "                    'Tipo': 'TipoItem',\n",
    "                    'Tipo Proveedor': 'TipoProveedor'\n",
    "                }"
   ]
  },
  {
   "cell_type": "code",
   "execution_count": 3,
   "metadata": {
    "tags": []
   },
   "outputs": [],
   "source": [
    "# 1. Extract\n",
    "Atenciones = ImportDataFromExcel(filepath = filepath, sheet = 'Hoja1')"
   ]
  },
  {
   "cell_type": "code",
   "execution_count": 4,
   "metadata": {
    "tags": []
   },
   "outputs": [],
   "source": [
    "# 2. Renombrando\n",
    "Atenciones = RenameColumns(Atenciones, nombre_columnas)\n",
    "Atenciones = SplitByDelimiter(Atenciones, 'Ubicacion')\n",
    "Atenciones = RenameColumns(Atenciones, {'Columna1': 'AgenciaID', 'Columna2': 'Agencia'})\n",
    "Atenciones = Atenciones.sort('FechaCreacion', descending = False) # Ordenar por FechaCreacion"
   ]
  },
  {
   "cell_type": "code",
   "execution_count": 5,
   "metadata": {},
   "outputs": [],
   "source": [
    "# 3. Creando los DataFrames\n",
    "Agencias     = CreateDimension(Atenciones, 'AgenciaID', 'Agencia', 'Direccion', 'Distrito', 'Provincia', 'Departamento')\n",
    "Estado       = CreateDimension(Atenciones, 'Estado')\n",
    "TipoAtencion = CreateDimension(Atenciones, 'TipoAtencion')\n",
    "Proveedor    = CreateDimension(Atenciones, 'Proveedor', 'TipoProveedor')\n",
    "Item         = CreateDimension(Atenciones, 'ItemID',    'Item',    'TipoItem',  'Categoria')"
   ]
  },
  {
   "cell_type": "code",
   "execution_count": 6,
   "metadata": {},
   "outputs": [
    {
     "name": "stdout",
     "output_type": "stream",
     "text": [
      "Tabla eliminada correctamente.\n",
      "Tabla eliminada correctamente.\n",
      "Tabla eliminada correctamente.\n",
      "Tabla eliminada correctamente.\n",
      "Tabla eliminada correctamente.\n",
      "Tabla eliminada correctamente.\n",
      "Tabla creada correctamente.\n",
      "Tabla creada correctamente.\n",
      "Tabla creada correctamente.\n",
      "Tabla creada correctamente.\n",
      "Tabla creada correctamente.\n",
      "Tabla creada correctamente.\n",
      "Todas las tablas han sido creadas exitosamente.\n",
      "Datos insertados correctamente.\n",
      "Datos insertados correctamente.\n",
      "Datos insertados correctamente.\n",
      "Datos insertados correctamente.\n",
      "Datos insertados correctamente.\n"
     ]
    }
   ],
   "source": [
    "# 4. Probando Conexion\n",
    "CrearTablas()\n",
    "InsertDimToPostgreSQL(Agencias,     'dimAgencia')\n",
    "InsertDimToPostgreSQL(Item,         'dimItem')\n",
    "InsertDimToPostgreSQL(Proveedor,    'dimProveedor')\n",
    "InsertDimToPostgreSQL(TipoAtencion, 'dimTipoAtencion')\n",
    "InsertDimToPostgreSQL(Estado,       'dimEstado')"
   ]
  },
  {
   "cell_type": "code",
   "execution_count": 7,
   "metadata": {},
   "outputs": [],
   "source": [
    "# Extraer dimensiones con clave subrogada\n",
    "# 5. Llamando al código\n",
    "Proveedor    = ImportDataFromPostgreSQL('dimProveedor',    ['ProveedorID',    'Proveedor'])\n",
    "TipoAtencion = ImportDataFromPostgreSQL('dimTipoAtencion', ['TipoAtencionID', 'TipoAtencion'])\n",
    "Estado       = ImportDataFromPostgreSQL('dimEstado',       ['EstadoID',       'Estado'])"
   ]
  },
  {
   "cell_type": "code",
   "execution_count": 8,
   "metadata": {},
   "outputs": [],
   "source": [
    "# 6. Haciendo el Join\n",
    "Atenciones = CreateFactTable(Atenciones, Proveedor, Estado, TipoAtencion)"
   ]
  },
  {
   "cell_type": "code",
   "execution_count": 9,
   "metadata": {
    "tags": []
   },
   "outputs": [
    {
     "name": "stdout",
     "output_type": "stream",
     "text": [
      "Datos insertados correctamente.\n"
     ]
    }
   ],
   "source": [
    "# 7. Escribiendo datos\n",
    "InsertFactToPostgreSQL(Atenciones, 'factAtenciones')"
   ]
  },
  {
   "cell_type": "code",
   "execution_count": 10,
   "metadata": {
    "tags": []
   },
   "outputs": [
    {
     "data": {
      "text/html": [
       "<div><style>\n",
       ".dataframe > thead > tr,\n",
       ".dataframe > tbody > tr {\n",
       "  text-align: right;\n",
       "  white-space: pre-wrap;\n",
       "}\n",
       "</style>\n",
       "<small>shape: (22_990, 8)</small><table border=\"1\" class=\"dataframe\"><thead><tr><th>TicketID</th><th>EstadoID</th><th>TipoAtencionID</th><th>FechaCreacion</th><th>FechaCierre</th><th>AgenciaID</th><th>ItemID</th><th>ProveedorID</th></tr><tr><td>str</td><td>i64</td><td>i64</td><td>date</td><td>date</td><td>str</td><td>i64</td><td>i64</td></tr></thead><tbody><tr><td>&quot;WO000000409837…</td><td>2</td><td>3</td><td>2022-05-25</td><td>2022-06-05</td><td>&quot;255001&quot;</td><td>253</td><td>13</td></tr><tr><td>&quot;WO000000409878…</td><td>2</td><td>3</td><td>2022-05-25</td><td>2022-05-27</td><td>&quot;191054&quot;</td><td>43</td><td>13</td></tr><tr><td>&quot;WO000000409847…</td><td>5</td><td>2</td><td>2022-05-25</td><td>2022-06-11</td><td>&quot;191061&quot;</td><td>160</td><td>8</td></tr><tr><td>&quot;WO000000409862…</td><td>5</td><td>2</td><td>2022-05-25</td><td>2022-05-29</td><td>&quot;191084&quot;</td><td>160</td><td>8</td></tr><tr><td>&quot;WO000000409850…</td><td>5</td><td>2</td><td>2022-05-25</td><td>2022-05-27</td><td>&quot;191141&quot;</td><td>160</td><td>8</td></tr><tr><td>&quot;WO000000409861…</td><td>5</td><td>2</td><td>2022-05-25</td><td>2022-05-27</td><td>&quot;385000&quot;</td><td>160</td><td>8</td></tr><tr><td>&quot;WO000000409860…</td><td>5</td><td>2</td><td>2022-05-25</td><td>2022-05-28</td><td>&quot;192081&quot;</td><td>160</td><td>8</td></tr><tr><td>&quot;WO000000409850…</td><td>5</td><td>2</td><td>2022-05-25</td><td>2022-05-31</td><td>&quot;193005&quot;</td><td>160</td><td>8</td></tr><tr><td>&quot;WO000000409840…</td><td>5</td><td>2</td><td>2022-05-25</td><td>2022-05-28</td><td>&quot;192081&quot;</td><td>160</td><td>8</td></tr><tr><td>&quot;WO000000409839…</td><td>5</td><td>2</td><td>2022-05-25</td><td>2022-05-28</td><td>&quot;192081&quot;</td><td>160</td><td>8</td></tr><tr><td>&quot;WO000000409873…</td><td>5</td><td>2</td><td>2022-05-25</td><td>2022-05-29</td><td>&quot;191147&quot;</td><td>22</td><td>9</td></tr><tr><td>&quot;WO000000409843…</td><td>5</td><td>2</td><td>2022-05-25</td><td>2022-05-27</td><td>&quot;191108&quot;</td><td>49</td><td>9</td></tr><tr><td>&hellip;</td><td>&hellip;</td><td>&hellip;</td><td>&hellip;</td><td>&hellip;</td><td>&hellip;</td><td>&hellip;</td><td>&hellip;</td></tr><tr><td>&quot;WO000000573870…</td><td>3</td><td>2</td><td>2023-10-29</td><td>null</td><td>&quot;191010&quot;</td><td>5</td><td>40</td></tr><tr><td>&quot;WO000000573684…</td><td>3</td><td>1</td><td>2023-10-29</td><td>null</td><td>&quot;191141&quot;</td><td>10</td><td>39</td></tr><tr><td>&quot;WO000000573753…</td><td>3</td><td>1</td><td>2023-10-29</td><td>null</td><td>&quot;191077&quot;</td><td>51</td><td>39</td></tr><tr><td>&quot;WO000000573781…</td><td>3</td><td>1</td><td>2023-10-29</td><td>null</td><td>&quot;191059&quot;</td><td>41</td><td>39</td></tr><tr><td>&quot;WO000000573872…</td><td>3</td><td>1</td><td>2023-10-29</td><td>null</td><td>&quot;470000&quot;</td><td>144</td><td>39</td></tr><tr><td>&quot;WO000000573784…</td><td>3</td><td>1</td><td>2023-10-29</td><td>null</td><td>&quot;191023&quot;</td><td>146</td><td>39</td></tr><tr><td>&quot;WO000000573637…</td><td>3</td><td>3</td><td>2023-10-29</td><td>null</td><td>&quot;285000&quot;</td><td>214</td><td>13</td></tr><tr><td>&quot;WO000000573786…</td><td>3</td><td>1</td><td>2023-10-29</td><td>null</td><td>&quot;191077&quot;</td><td>144</td><td>39</td></tr><tr><td>&quot;WO000000573787…</td><td>3</td><td>1</td><td>2023-10-29</td><td>null</td><td>&quot;192026&quot;</td><td>188</td><td>39</td></tr><tr><td>&quot;WO000000573662…</td><td>5</td><td>2</td><td>2023-10-29</td><td>2023-10-29</td><td>&quot;191061&quot;</td><td>34</td><td>9</td></tr><tr><td>&quot;WO000000573834…</td><td>2</td><td>3</td><td>2023-10-29</td><td>null</td><td>&quot;193054&quot;</td><td>159</td><td>13</td></tr><tr><td>&quot;WO000000573834…</td><td>2</td><td>3</td><td>2023-10-29</td><td>null</td><td>&quot;193054&quot;</td><td>160</td><td>13</td></tr></tbody></table></div>"
      ],
      "text/plain": [
       "shape: (22_990, 8)\n",
       "┌─────────────────┬──────────┬────────────────┬───────────────┬─────────────┬───────────┬────────┬─────────────┐\n",
       "│ TicketID        ┆ EstadoID ┆ TipoAtencionID ┆ FechaCreacion ┆ FechaCierre ┆ AgenciaID ┆ ItemID ┆ ProveedorID │\n",
       "│ ---             ┆ ---      ┆ ---            ┆ ---           ┆ ---         ┆ ---       ┆ ---    ┆ ---         │\n",
       "│ str             ┆ i64      ┆ i64            ┆ date          ┆ date        ┆ str       ┆ i64    ┆ i64         │\n",
       "╞═════════════════╪══════════╪════════════════╪═══════════════╪═════════════╪═══════════╪════════╪═════════════╡\n",
       "│ WO0000004098374 ┆ 2        ┆ 3              ┆ 2022-05-25    ┆ 2022-06-05  ┆ 255001    ┆ 253    ┆ 13          │\n",
       "│ WO0000004098787 ┆ 2        ┆ 3              ┆ 2022-05-25    ┆ 2022-05-27  ┆ 191054    ┆ 43     ┆ 13          │\n",
       "│ WO0000004098477 ┆ 5        ┆ 2              ┆ 2022-05-25    ┆ 2022-06-11  ┆ 191061    ┆ 160    ┆ 8           │\n",
       "│ WO0000004098624 ┆ 5        ┆ 2              ┆ 2022-05-25    ┆ 2022-05-29  ┆ 191084    ┆ 160    ┆ 8           │\n",
       "│ WO0000004098507 ┆ 5        ┆ 2              ┆ 2022-05-25    ┆ 2022-05-27  ┆ 191141    ┆ 160    ┆ 8           │\n",
       "│ …               ┆ …        ┆ …              ┆ …             ┆ …           ┆ …         ┆ …      ┆ …           │\n",
       "│ WO0000005737868 ┆ 3        ┆ 1              ┆ 2023-10-29    ┆ null        ┆ 191077    ┆ 144    ┆ 39          │\n",
       "│ WO0000005737871 ┆ 3        ┆ 1              ┆ 2023-10-29    ┆ null        ┆ 192026    ┆ 188    ┆ 39          │\n",
       "│ WO0000005736629 ┆ 5        ┆ 2              ┆ 2023-10-29    ┆ 2023-10-29  ┆ 191061    ┆ 34     ┆ 9           │\n",
       "│ WO0000005738345 ┆ 2        ┆ 3              ┆ 2023-10-29    ┆ null        ┆ 193054    ┆ 159    ┆ 13          │\n",
       "│ WO0000005738348 ┆ 2        ┆ 3              ┆ 2023-10-29    ┆ null        ┆ 193054    ┆ 160    ┆ 13          │\n",
       "└─────────────────┴──────────┴────────────────┴───────────────┴─────────────┴───────────┴────────┴─────────────┘"
      ]
     },
     "execution_count": 10,
     "metadata": {},
     "output_type": "execute_result"
    }
   ],
   "source": [
    "Atenciones"
   ]
  }
 ],
 "metadata": {
  "kernelspec": {
   "display_name": "Python 3 (ipykernel)",
   "language": "python",
   "name": "python3"
  },
  "language_info": {
   "codemirror_mode": {
    "name": "ipython",
    "version": 3
   },
   "file_extension": ".py",
   "mimetype": "text/x-python",
   "name": "python",
   "nbconvert_exporter": "python",
   "pygments_lexer": "ipython3",
   "version": "3.11.5"
  }
 },
 "nbformat": 4,
 "nbformat_minor": 4
}
